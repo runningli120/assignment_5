{
 "cells": [
  {
   "cell_type": "code",
   "execution_count": 1,
   "id": "2a1774d7",
   "metadata": {},
   "outputs": [
    {
     "name": "stdout",
     "output_type": "stream",
     "text": [
      " * Serving Flask app \"__main__\" (lazy loading)\n",
      " * Environment: production\n",
      "\u001b[31m   WARNING: This is a development server. Do not use it in a production deployment.\u001b[0m\n",
      "\u001b[2m   Use a production WSGI server instead.\u001b[0m\n",
      " * Debug mode: off\n"
     ]
    },
    {
     "name": "stderr",
     "output_type": "stream",
     "text": [
      " * Running on http://localhost:9009/ (Press CTRL+C to quit)\n",
      "127.0.0.1 - - [16/Oct/2021 22:31:59] \"\u001b[37mGET / HTTP/1.1\u001b[0m\" 200 -\n",
      "127.0.0.1 - - [16/Oct/2021 22:31:59] \"\u001b[33mGET /js/scripts.js HTTP/1.1\u001b[0m\" 404 -\n",
      "127.0.0.1 - - [16/Oct/2021 22:31:59] \"\u001b[33mGET /assets/img/ipad.png HTTP/1.1\u001b[0m\" 404 -\n",
      "127.0.0.1 - - [16/Oct/2021 22:31:59] \"\u001b[33mGET /assets/img/bg-masthead.jpg HTTP/1.1\u001b[0m\" 404 -\n",
      "127.0.0.1 - - [16/Oct/2021 22:31:59] \"\u001b[33mGET /assets/img/demo-image-01.jpg HTTP/1.1\u001b[0m\" 404 -\n",
      "127.0.0.1 - - [16/Oct/2021 22:31:59] \"\u001b[33mGET /assets/img/demo-image-02.jpg HTTP/1.1\u001b[0m\" 404 -\n",
      "127.0.0.1 - - [16/Oct/2021 22:31:59] \"\u001b[33mGET /static/assets/img/bg-masthead.jpg HTTP/1.1\u001b[0m\" 404 -\n",
      "127.0.0.1 - - [16/Oct/2021 22:31:59] \"\u001b[33mGET /static/assets/img/bg-signup.jpg HTTP/1.1\u001b[0m\" 404 -\n",
      "127.0.0.1 - - [16/Oct/2021 22:31:59] \"\u001b[33mGET /js/scripts.js HTTP/1.1\u001b[0m\" 404 -\n",
      "127.0.0.1 - - [16/Oct/2021 22:32:04] \"\u001b[37mGET /blogs HTTP/1.1\u001b[0m\" 200 -\n",
      "127.0.0.1 - - [16/Oct/2021 22:32:04] \"\u001b[33mGET /js/scripts.js HTTP/1.1\u001b[0m\" 404 -\n",
      "127.0.0.1 - - [16/Oct/2021 22:32:05] \"\u001b[33mGET /js/scripts.js HTTP/1.1\u001b[0m\" 404 -\n"
     ]
    }
   ],
   "source": [
    "################################################################################################################\n",
    "\n",
    "# EXTERNAL MODULES TO BE USED\n",
    "\n",
    "################################################################################################################\n",
    "\n",
    "from flask import Flask, render_template, redirect, url_for\n",
    "import pandas as pd\n",
    "\n",
    "app = Flask(__name__)\n",
    "    \n",
    "################################################################################################################\n",
    "\n",
    "# WEB ROUTES FOR CONTROLLING ACCESS TO TEMPLATE VIEWS\n",
    "\n",
    "################################################################################################################\n",
    "\n",
    "@app.route(\"/\")\n",
    "def index():\n",
    "    return render_template('index.html')\n",
    "\n",
    "@app.route(\"/blogs\")\n",
    "def blogs():\n",
    "    scores = [{'Student': 'David Chan', 'Jan': 90, 'Feb': 85, 'Mar': 88},\n",
    "        {'Student': 'Peter Lee',  'Jan': 72, 'Feb': 75, 'Mar': 68},\n",
    "        {'Student': 'John Lui',  'Jan': 60,  'Feb': 80,  'Mar': 100 }]\n",
    "    \n",
    "    df = pd.DataFrame(scores)\n",
    "    df.to_csv('weekly_hours.csv',mode='w',index=False)\n",
    "    df = pd.read_csv(\"weekly_hours.csv\")\n",
    "    list = df.to_dict('records')\n",
    "\n",
    "    return render_template('blogs.html', entries = scores)\n",
    "\n",
    "@app.route(\"/community\")\n",
    "def community():\n",
    "    return render_template('community.html')\n",
    "\n",
    "@app.route(\"/file\")\n",
    "def about():\n",
    "    return render_template('my_file.html')\n",
    "\n",
    "@app.route(\"/group\")\n",
    "def contact():\n",
    "    return render_template('groups.html')\n",
    "\n",
    "@app.route(\"/introduction\")\n",
    "def dashboard():\n",
    "    return render_template('introduction.html')\n",
    "\n",
    "\n",
    "\n",
    "\n",
    "################################################################################################################\n",
    "\n",
    "# ERROR HANDLERS\n",
    "\n",
    "################################################################################################################\n",
    "\n",
    "@app.errorhandler(404)\n",
    "def page_not_found(e):\n",
    "    return render_template('404.html'), 404\n",
    "\n",
    "\n",
    "################################################################################################################\n",
    "\n",
    "# APPLICATION TEST RUN AT PORT 9003\n",
    "\n",
    "################################################################################################################\n",
    "\n",
    "if __name__ == '__main__':\n",
    "    app.run('localhost',9009)"
   ]
  },
  {
   "cell_type": "code",
   "execution_count": null,
   "id": "17682e14",
   "metadata": {},
   "outputs": [],
   "source": []
  }
 ],
 "metadata": {
  "kernelspec": {
   "display_name": "Python 3",
   "language": "python",
   "name": "python3"
  },
  "language_info": {
   "codemirror_mode": {
    "name": "ipython",
    "version": 3
   },
   "file_extension": ".py",
   "mimetype": "text/x-python",
   "name": "python",
   "nbconvert_exporter": "python",
   "pygments_lexer": "ipython3",
   "version": "3.8.8"
  }
 },
 "nbformat": 4,
 "nbformat_minor": 5
}
